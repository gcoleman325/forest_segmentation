{
 "cells": [
  {
   "cell_type": "code",
   "execution_count": 1,
   "id": "e95ef480-4f02-467d-928c-39f5f43a1d35",
   "metadata": {},
   "outputs": [
    {
     "name": "stdout",
     "output_type": "stream",
     "text": [
      "Jupyter environment detected. Enabling Open3D WebVisualizer.\n",
      "[Open3D INFO] WebRTC GUI backend enabled.\n",
      "[Open3D INFO] WebRTCWindowSystem: HTTP handshake server disabled.\n"
     ]
    }
   ],
   "source": [
    "import numpy as np\n",
    "import open3d as o3d\n",
    "import pandas as pd\n",
    "from sklearn.cluster import KMeans\n",
    "import random\n",
    "import os\n",
    "import glob\n",
    "from sklearn.naive_bayes import BernoulliNB\n",
    "from sklearn.cluster import KMeans"
   ]
  },
  {
   "cell_type": "code",
   "execution_count": 2,
   "id": "422caedb-24ae-45c0-a312-77e77c160bd9",
   "metadata": {},
   "outputs": [],
   "source": [
    "def preprocess_point_cloud(pcd):\n",
    "    pcd = pcd.voxel_down_sample(voxel_size=0.05)\n",
    "\n",
    "    radius_normal = 0.2\n",
    "    print(\"estimating normals\")\n",
    "    pcd.estimate_normals(\n",
    "        o3d.geometry.KDTreeSearchParamHybrid(radius=radius_normal, max_nn=30))\n",
    "\n",
    "    radius_feature = 0.5\n",
    "    print(\"computing fpfh\")\n",
    "    pcd_fpfh = o3d.pipelines.registration.compute_fpfh_feature(\n",
    "        pcd,\n",
    "        o3d.geometry.KDTreeSearchParamHybrid(radius=radius_feature, max_nn=100))\n",
    "    fpfh = np.asarray(pcd_fpfh.data).T\n",
    "    return pcd, fpfh"
   ]
  },
  {
   "cell_type": "code",
   "execution_count": 3,
   "id": "441f79c7-8279-45db-9b05-d42780935fc4",
   "metadata": {},
   "outputs": [],
   "source": [
    "def cov_metrics(pcd):\n",
    "    print(\"estimating covariances\")\n",
    "    covs = pcd.estimate_covariances()\n",
    "    covs = np.asarray(pcd.covariances)\n",
    "\n",
    "    print(\"computing eigen-based metrics\")\n",
    "    metrics = []\n",
    "    for pt in covs:\n",
    "        eigenvalues = np.linalg.eigvals(pt)\n",
    "        e1, e2, e3 = eigenvalues\n",
    "        \n",
    "        linearity = (e1 - e2) / e1\n",
    "        planarity = (e2 - e3) / e1\n",
    "        scattering = e3 / e1\n",
    "        omnivariance = (e1 * e2 * e3) ** (1 / 3)\n",
    "        anisotropy = (e1 - e3) / e1\n",
    "        eigentropy = -(e1 * np.log(e1) + e2 * np.log(e2) + e3 * np.log(e3))\n",
    "        curvature = e3 / (e1 + e2 + e3)\n",
    "\n",
    "        metrics.append((linearity, planarity, scattering, omnivariance, anisotropy, eigentropy, curvature))\n",
    "\n",
    "    dtype = [('linearity', 'f8'), ('planarity', 'f8'), ('scattering', 'f8'), \n",
    "            ('omnivariance', 'f8'), ('anisotropy', 'f8'), ('eigentropy', 'f8'), \n",
    "            ('curvature', 'f8')]\n",
    "    \n",
    "    metrics_array = np.array(metrics, dtype=dtype)\n",
    "  \n",
    "    return np.array([tuple(row) for row in metrics_array])"
   ]
  },
  {
   "cell_type": "code",
   "execution_count": 4,
   "id": "579d3933-a022-41c4-bd6f-7e73045e3629",
   "metadata": {},
   "outputs": [],
   "source": [
    "def get_clusters(df):\n",
    "    df['cluster'] = KMeans(n_clusters=4,\n",
    "                           random_state=0,\n",
    "                           init=initial_centroids).fit(df).labels_\n",
    "    return df"
   ]
  },
  {
   "cell_type": "code",
   "execution_count": 5,
   "id": "97370a21-04f1-4fac-98fd-786746798702",
   "metadata": {},
   "outputs": [
    {
     "name": "stdout",
     "output_type": "stream",
     "text": [
      "reading point cloud\n",
      "preprocessing point cloud\n",
      "estimating normals\n",
      "computing fpfh\n",
      "getting metrics\n",
      "estimating covariances\n",
      "computing eigen-based metrics\n"
     ]
    }
   ],
   "source": [
    "print(\"reading point cloud\")\n",
    "pcd = o3d.io.read_point_cloud(\"C:/Users/ellie/OneDrive/Desktop/lidar_local/ccb-3_preprocessed.pcd\")\n",
    "print(\"preprocessing point cloud\")\n",
    "pcd, fpfh = preprocess_point_cloud(pcd)\n",
    "print(\"getting metrics\")\n",
    "cov = cov_metrics(pcd)"
   ]
  },
  {
   "cell_type": "code",
   "execution_count": 6,
   "id": "8b1d9c04-1348-46b0-8c8e-4a44297df51a",
   "metadata": {},
   "outputs": [],
   "source": [
    "cov_headers = ['linearity', 'planarity', 'scattering', 'omnivariance', 'anisotropy', 'eigentropy', 'curvature']\n",
    "header = ['x', 'y', 'z'] + [f'feature{i}' for i in range(fpfh.shape[1])] + cov_headers\n",
    "all_metrics = np.hstack([np.asarray(pcd.points), fpfh, cov])\n",
    "df = pd.DataFrame(all_metrics, columns=header)"
   ]
  },
  {
   "cell_type": "code",
   "execution_count": 7,
   "id": "bad26d77-c690-4d7b-a6e8-2de164629bd1",
   "metadata": {},
   "outputs": [
    {
     "name": "stdout",
     "output_type": "stream",
     "text": [
      "               x         y         z   feature0   feature1   feature2  \\\n",
      "0       8.115000 -5.179000  0.096000  12.824718   0.452426   0.926230   \n",
      "2      -2.502654  7.649808 -0.939538   1.303261   0.000000   0.000000   \n",
      "4       1.099000  4.099000 -0.526000   2.947544   2.474836   5.123783   \n",
      "5      -3.404333 -7.200889 -0.435667   0.390387   0.000000   0.000000   \n",
      "8      -2.805000  0.758667  0.058333   8.843931  14.249468  15.845661   \n",
      "...          ...       ...       ...        ...        ...        ...   \n",
      "830249 -1.144000  0.022000 -0.052000  21.208339   5.846927   3.018289   \n",
      "830250 -1.156000  0.021000 -0.057000  26.097572   7.852748   4.037347   \n",
      "830255 -0.202500  0.139000 -0.103000   8.272093   7.189978   2.370370   \n",
      "830290  0.270000  0.689000  0.143500  19.205941  22.914091  20.963834   \n",
      "830291  0.169400  0.778400 -0.007600  25.905694  20.669122  19.357527   \n",
      "\n",
      "         feature3   feature4    feature5   feature6  ...  feature31  \\\n",
      "0        1.900343   5.838072  159.317399   0.124168  ...   1.120935   \n",
      "2        0.000000   1.453418  188.846154   7.177555  ...   0.356299   \n",
      "4       28.305392  44.707730   66.343324  23.801211  ...  27.690527   \n",
      "5        0.009461   5.877192  177.646725  15.670451  ...   0.399753   \n",
      "8       17.046946  25.141762   39.950343  18.986786  ...  20.905472   \n",
      "...           ...        ...         ...        ...  ...        ...   \n",
      "830249   5.858864  13.193499   29.047806  13.483297  ...  41.968273   \n",
      "830250   6.026537  12.492353   30.149446  10.174772  ...  38.433952   \n",
      "830255   3.799208  33.787761   90.343496  26.554037  ...   8.444024   \n",
      "830290  15.510256  14.986153   23.817135  19.165227  ...  24.205566   \n",
      "830291   7.605089  19.839432   28.374866  19.242426  ...  28.232989   \n",
      "\n",
      "        feature32  linearity  planarity  scattering  omnivariance  anisotropy  \\\n",
      "0       10.089413   0.220119   0.767913    0.011968      0.000666    0.988032   \n",
      "2        0.202510 -13.663337   3.031123   11.632213      0.001180  -10.632213   \n",
      "4       47.659254   0.664021   0.091293    0.244686      0.003178    0.755314   \n",
      "5        0.254978   0.284233   0.658125    0.057642      0.001347    0.942358   \n",
      "8       22.046973   0.653922  -0.082607    0.428685      0.002258    0.571315   \n",
      "...           ...        ...        ...         ...           ...         ...   \n",
      "830249  65.540222   0.437294  -0.153106    0.715812      0.002454    0.284188   \n",
      "830250  66.531884   0.512409  -0.152184    0.639776      0.002355    0.360224   \n",
      "830255   2.711195  -5.615763   2.066306    4.549457      0.002001   -3.549457   \n",
      "830290  26.056839   0.557349   0.300753    0.141899      0.002552    0.858101   \n",
      "830291  52.665068   0.461492   0.098329    0.440179      0.001845    0.559821   \n",
      "\n",
      "        eigentropy  curvature  cluster  \n",
      "0         0.033420   0.006679        0  \n",
      "2         0.034653   0.426158        0  \n",
      "4         0.062022   0.154799        2  \n",
      "5         0.039931   0.032504        1  \n",
      "8         0.044432   0.241545        2  \n",
      "...            ...        ...      ...  \n",
      "830249    0.045072   0.314157        2  \n",
      "830250    0.044038   0.300736        2  \n",
      "830255    0.045042   0.373972        2  \n",
      "830290    0.055447   0.089551        2  \n",
      "830291    0.036374   0.222460        2  \n",
      "\n",
      "[273091 rows x 44 columns]\n"
     ]
    }
   ],
   "source": [
    "df = df[df['z'] <= 0.5]\n",
    "df['cluster'] = KMeans(n_clusters=3, random_state=0).fit(df).labels_\n",
    "print(df)"
   ]
  },
  {
   "cell_type": "code",
   "execution_count": 8,
   "id": "271d8615-b8c3-4923-827e-1e9e8e90d83b",
   "metadata": {},
   "outputs": [
    {
     "name": "stdout",
     "output_type": "stream",
     "text": [
      "[Open3D INFO] Resetting default logger to print to terminal.\n"
     ]
    },
    {
     "data": {
      "application/vnd.jupyter.widget-view+json": {
       "model_id": "1122ebb9209b4941a8d29c99b383b3aa",
       "version_major": 2,
       "version_minor": 0
      },
      "text/plain": [
       "WebVisualizer(window_uid='window_0')"
      ]
     },
     "metadata": {},
     "output_type": "display_data"
    },
    {
     "data": {
      "application/vnd.jupyter.widget-view+json": {
       "model_id": "10c86824839042149a9d1e37b736cc5a",
       "version_major": 2,
       "version_minor": 0
      },
      "text/plain": [
       "WebVisualizer(window_uid='window_1')"
      ]
     },
     "metadata": {},
     "output_type": "display_data"
    },
    {
     "data": {
      "application/vnd.jupyter.widget-view+json": {
       "model_id": "8a3000e70c2a447ea5adb276bf2efff1",
       "version_major": 2,
       "version_minor": 0
      },
      "text/plain": [
       "WebVisualizer(window_uid='window_2')"
      ]
     },
     "metadata": {},
     "output_type": "display_data"
    },
    {
     "data": {
      "application/vnd.jupyter.widget-view+json": {
       "model_id": "9addc8f431574d188b00b9bc32b7852d",
       "version_major": 2,
       "version_minor": 0
      },
      "text/plain": [
       "WebVisualizer(window_uid='window_3')"
      ]
     },
     "metadata": {},
     "output_type": "display_data"
    }
   ],
   "source": [
    "from open3d.web_visualizer import draw\n",
    "\n",
    "just_clusters = df[[\"x\", \"y\", \"z\", \"cluster\"]]\n",
    "cluster_0 = just_clusters[just_clusters['cluster'] == 0]\n",
    "cluster_1 = just_clusters[just_clusters['cluster'] == 1]\n",
    "cluster_2 = just_clusters[just_clusters['cluster'] == 2]\n",
    "cluster_3 = just_clusters[just_clusters['cluster'] == 3]\n",
    "\n",
    "zero = cluster_0[['x', 'y', 'z']].values\n",
    "one = cluster_1[['x', 'y', 'z']].values\n",
    "two = cluster_2[['x', 'y', 'z']].values\n",
    "three = cluster_3[['x', 'y', 'z']].values\n",
    "\n",
    "pcd0 = o3d.geometry.PointCloud()\n",
    "pcd0.points = o3d.utility.Vector3dVector(zero)\n",
    "draw(pcd0)\n",
    "\n",
    "pcd1 = o3d.geometry.PointCloud()\n",
    "pcd1.points = o3d.utility.Vector3dVector(one)\n",
    "draw(pcd1)\n",
    "\n",
    "pcd2 = o3d.geometry.PointCloud()\n",
    "pcd2.points = o3d.utility.Vector3dVector(two)\n",
    "draw(pcd2)\n",
    "\n",
    "pcd3 = o3d.geometry.PointCloud()\n",
    "pcd3.points = o3d.utility.Vector3dVector(three)\n",
    "draw(pcd3)"
   ]
  }
 ],
 "metadata": {
  "kernelspec": {
   "display_name": "Python 3 (ipykernel)",
   "language": "python",
   "name": "python3"
  },
  "language_info": {
   "codemirror_mode": {
    "name": "ipython",
    "version": 3
   },
   "file_extension": ".py",
   "mimetype": "text/x-python",
   "name": "python",
   "nbconvert_exporter": "python",
   "pygments_lexer": "ipython3",
   "version": "3.11.9"
  }
 },
 "nbformat": 4,
 "nbformat_minor": 5
}
