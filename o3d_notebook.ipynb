{
 "cells": [
  {
   "cell_type": "code",
   "execution_count": 1,
   "id": "e95ef480-4f02-467d-928c-39f5f43a1d35",
   "metadata": {},
   "outputs": [
    {
     "name": "stdout",
     "output_type": "stream",
     "text": [
      "Jupyter environment detected. Enabling Open3D WebVisualizer.\n",
      "[Open3D INFO] WebRTC GUI backend enabled.\n",
      "[Open3D INFO] WebRTCWindowSystem: HTTP handshake server disabled.\n"
     ]
    }
   ],
   "source": [
    "import numpy as np\n",
    "import open3d as o3d\n",
    "import pandas as pd\n",
    "from sklearn.cluster import KMeans\n",
    "import random\n",
    "import os\n",
    "import glob\n",
    "from sklearn.naive_bayes import BernoulliNB\n",
    "from sklearn.cluster import KMeans"
   ]
  },
  {
   "cell_type": "code",
   "execution_count": 2,
   "id": "422caedb-24ae-45c0-a312-77e77c160bd9",
   "metadata": {},
   "outputs": [],
   "source": [
    "def preprocess_point_cloud(pcd):\n",
    "    pcd = pcd.voxel_down_sample(voxel_size=0.02)\n",
    "\n",
    "    radius_normal = 0.2\n",
    "    print(\"estimating normals\")\n",
    "    pcd.estimate_normals(\n",
    "        o3d.geometry.KDTreeSearchParamHybrid(radius=radius_normal, max_nn=30))\n",
    "\n",
    "    radius_feature = 0.5\n",
    "    print(\"computing fpfh\")\n",
    "    pcd_fpfh = o3d.pipelines.registration.compute_fpfh_feature(\n",
    "        pcd,\n",
    "        o3d.geometry.KDTreeSearchParamHybrid(radius=radius_feature, max_nn=100))\n",
    "    fpfh = np.asarray(pcd_fpfh.data).T\n",
    "    return pcd, fpfh"
   ]
  },
  {
   "cell_type": "code",
   "execution_count": 3,
   "id": "441f79c7-8279-45db-9b05-d42780935fc4",
   "metadata": {},
   "outputs": [],
   "source": [
    "def cov_metrics(pcd):\n",
    "    print(\"estimating covariances\")\n",
    "    covs = pcd.estimate_covariances()\n",
    "    covs = np.asarray(pcd.covariances)\n",
    "\n",
    "    print(\"computing eigen-based metrics\")\n",
    "    metrics = []\n",
    "    for pt in covs:\n",
    "        eigenvalues = np.linalg.eigvals(pt)\n",
    "        e1, e2, e3 = eigenvalues\n",
    "        \n",
    "        linearity = (e1 - e2) / e1\n",
    "        planarity = (e2 - e3) / e1\n",
    "        scattering = e3 / e1\n",
    "        omnivariance = (e1 * e2 * e3) ** (1 / 3)\n",
    "        anisotropy = (e1 - e3) / e1\n",
    "        eigentropy = -(e1 * np.log(e1) + e2 * np.log(e2) + e3 * np.log(e3))\n",
    "        curvature = e3 / (e1 + e2 + e3)\n",
    "\n",
    "        metrics.append((linearity, planarity, scattering, omnivariance, anisotropy, eigentropy, curvature))\n",
    "\n",
    "    dtype = [('linearity', 'f8'), ('planarity', 'f8'), ('scattering', 'f8'), \n",
    "            ('omnivariance', 'f8'), ('anisotropy', 'f8'), ('eigentropy', 'f8'), \n",
    "            ('curvature', 'f8')]\n",
    "    \n",
    "    metrics_array = np.array(metrics, dtype=dtype)\n",
    "  \n",
    "    return np.array([tuple(row) for row in metrics_array])"
   ]
  },
  {
   "cell_type": "code",
   "execution_count": 4,
   "id": "579d3933-a022-41c4-bd6f-7e73045e3629",
   "metadata": {},
   "outputs": [],
   "source": [
    "def get_clusters(df):\n",
    "    df['cluster'] = KMeans(n_clusters=4,\n",
    "                           random_state=0,\n",
    "                           init=initial_centroids).fit(df).labels_\n",
    "    return df"
   ]
  },
  {
   "cell_type": "code",
   "execution_count": null,
   "id": "97370a21-04f1-4fac-98fd-786746798702",
   "metadata": {},
   "outputs": [
    {
     "name": "stdout",
     "output_type": "stream",
     "text": [
      "reading point cloud\n"
     ]
    }
   ],
   "source": [
    "print(\"reading point cloud\")\n",
    "pcd = o3d.io.read_point_cloud(\"C:/Users/ellie/OneDrive/Desktop/lidar_local/ccb-3_preprocessed.pcd\")\n",
    "print(\"preprocessing point cloud\")\n",
    "pcd, fpfh = preprocess_point_cloud(pcd)\n",
    "print(\"getting metrics\")\n",
    "cov = cov_metrics(pcd)\n",
    "\n",
    "cov_headers = ['linearity', 'planarity', 'scattering', 'omnivariance', 'anisotropy', 'eigentropy', 'curvature']\n",
    "header = ['x', 'y', 'z'] + [f'feature{i}' for i in range(fpfh.shape[1])] + cov_headers\n",
    "all_metrics = np.hstack([np.asarray(pcd.points), fpfh, cov])\n",
    "\n",
    "df = pd.DataFrame(all_metrics, columns=header)"
   ]
  },
  {
   "cell_type": "code",
   "execution_count": null,
   "id": "8b1d9c04-1348-46b0-8c8e-4a44297df51a",
   "metadata": {},
   "outputs": [],
   "source": [
    "cov_headers = ['linearity', 'planarity', 'scattering', 'omnivariance', 'anisotropy', 'eigentropy', 'curvature']\n",
    "header = ['x', 'y', 'z'] + [f'feature{i}' for i in range(fpfh.shape[1])] + cov_headers\n",
    "all_metrics = np.hstack([np.asarray(pcd.points), fpfh, cov])\n",
    "df = pd.DataFrame(all_metrics, columns=header)"
   ]
  },
  {
   "cell_type": "code",
   "execution_count": null,
   "id": "bad26d77-c690-4d7b-a6e8-2de164629bd1",
   "metadata": {},
   "outputs": [],
   "source": [
    "df = df[df['z'] <= 0.25]\n",
    "df['cluster'] = KMeans(n_clusters=3, random_state=0).fit(df).labels_\n",
    "print(df)"
   ]
  },
  {
   "cell_type": "code",
   "execution_count": null,
   "id": "271d8615-b8c3-4923-827e-1e9e8e90d83b",
   "metadata": {},
   "outputs": [],
   "source": [
    "from open3d.web_visualizer import draw\n",
    "\n",
    "just_clusters = df[[\"x\", \"y\", \"z\", \"cluster\"]]\n",
    "cluster_0 = just_clusters[just_clusters['cluster'] == 0]\n",
    "cluster_1 = just_clusters[just_clusters['cluster'] == 1]\n",
    "cluster_2 = just_clusters[just_clusters['cluster'] == 2]\n",
    "cluster_3 = just_clusters[just_clusters['cluster'] == 3]\n",
    "cluster_4 = just_clusters[just_clusters['cluster'] == 4]\n",
    "cluster_5 = just_clusters[just_clusters['cluster'] == 5]\n",
    "cluster_6 = just_clusters[just_clusters['cluster'] == 6]\n",
    "cluster_7 = just_clusters[just_clusters['cluster'] == 7]\n",
    "cluster_8 = just_clusters[just_clusters['cluster'] == 8]\n",
    "cluster_9 = just_clusters[just_clusters['cluster'] == 9]\n",
    "cluster_10 = just_clusters[just_clusters['cluster'] == 10]\n",
    "\n",
    "zero = cluster_0[['x', 'y', 'z']].values\n",
    "one = cluster_1[['x', 'y', 'z']].values\n",
    "two = cluster_2[['x', 'y', 'z']].values\n",
    "three = cluster_3[['x', 'y', 'z']].values\n",
    "four = cluster_4[['x', 'y', 'z']].values\n",
    "five = cluster_5[['x', 'y', 'z']].values\n",
    "six = cluster_6[['x', 'y', 'z']].values\n",
    "seven = cluster_7[['x', 'y', 'z']].values\n",
    "eight = cluster_8[['x', 'y', 'z']].values\n",
    "nine = cluster_9[['x', 'y', 'z']].values\n",
    "ten = cluster_10[['x', 'y', 'z']].values\n",
    "\n",
    "\n",
    "pcd0 = o3d.geometry.PointCloud()\n",
    "pcd0.points = o3d.utility.Vector3dVector(zero)\n",
    "draw(pcd0)\n",
    "\n",
    "pcd1 = o3d.geometry.PointCloud()\n",
    "pcd1.points = o3d.utility.Vector3dVector(one)\n",
    "draw(pcd1)\n",
    "\n",
    "pcd2 = o3d.geometry.PointCloud()\n",
    "pcd2.points = o3d.utility.Vector3dVector(two)\n",
    "draw(pcd2)\n",
    "\n",
    "pcd3 = o3d.geometry.PointCloud()\n",
    "pcd3.points = o3d.utility.Vector3dVector(three)\n",
    "draw(pcd3)\n",
    "\n",
    "pcd4 = o3d.geometry.PointCloud()\n",
    "pcd4.points = o3d.utility.Vector3dVector(four)\n",
    "draw(pcd4)\n",
    "\n",
    "pcd5 = o3d.geometry.PointCloud()\n",
    "pcd5.points = o3d.utility.Vector3dVector(five)\n",
    "draw(pcd5)\n",
    "\n",
    "pcd6 = o3d.geometry.PointCloud()\n",
    "pcd6.points = o3d.utility.Vector3dVector(six)\n",
    "draw(pcd6)\n",
    "\n",
    "pcd7 = o3d.geometry.PointCloud()\n",
    "pcd7.points = o3d.utility.Vector3dVector(seven)\n",
    "draw(pcd7)\n",
    "\n",
    "pcd8 = o3d.geometry.PointCloud()\n",
    "pcd8.points = o3d.utility.Vector3dVector(eight)\n",
    "draw(pcd8)\n",
    "\n",
    "pcd9 = o3d.geometry.PointCloud()\n",
    "pcd9.points = o3d.utility.Vector3dVector(nine)\n",
    "draw(pcd9)\n",
    "\n",
    "pcd10 = o3d.geometry.PointCloud()\n",
    "pcd10.points = o3d.utility.Vector3dVector(ten)\n",
    "draw(pcd10)"
   ]
  },
  {
   "cell_type": "code",
   "execution_count": null,
   "id": "c9b9ea0e-4a10-4f3e-92ce-61dcf5ff32cb",
   "metadata": {},
   "outputs": [],
   "source": []
  }
 ],
 "metadata": {
  "kernelspec": {
   "display_name": "Python 3 (ipykernel)",
   "language": "python",
   "name": "python3"
  },
  "language_info": {
   "codemirror_mode": {
    "name": "ipython",
    "version": 3
   },
   "file_extension": ".py",
   "mimetype": "text/x-python",
   "name": "python",
   "nbconvert_exporter": "python",
   "pygments_lexer": "ipython3",
   "version": "3.11.9"
  }
 },
 "nbformat": 4,
 "nbformat_minor": 5
}
